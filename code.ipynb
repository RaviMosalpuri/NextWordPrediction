{
 "cells": [
  {
   "cell_type": "markdown",
   "id": "f5fbe254",
   "metadata": {},
   "source": [
    "<h1><center>Next Word Prediction using Deep Learning</h1>"
   ]
  },
  {
   "cell_type": "markdown",
   "id": "9195b97e",
   "metadata": {},
   "source": []
  },
  {
   "cell_type": "code",
   "execution_count": null,
   "id": "faf79af9",
   "metadata": {},
   "outputs": [],
   "source": [
    "# Import relevant libraries\n",
    "import re"
   ]
  },
  {
   "cell_type": "code",
   "execution_count": null,
   "id": "957ecddf",
   "metadata": {},
   "outputs": [
    {
     "name": "stdout",
     "output_type": "stream",
     "text": [
      "The Project Gutenberg eBook of Metamorphosis\n",
      "    \n",
      "This ebook is for the use of anyone anywhere in the United States and\n",
      "most other parts of the world at no cost and with almost no restrictions\n",
      "whatsoever.\n",
      "You may copy it, give it away or re-use it under the terms\n",
      "of the Project Gutenberg License included with this ebook or online\n",
      "at www.gutenberg.org.\n",
      "If you are not located in the United States,\n",
      "you will have to check the laws of the country where you are located\n",
      "before using this eBook.\n",
      "\n",
      "*** This is a COPYRIGHTED Project Gutenberg eBook.\n",
      "Details Below.\n",
      "***\n",
      "***     Please follow the copyright guidelines in this file.\n",
      "     ***\n",
      "\n",
      "\n",
      "Title: Metamorphosis\n",
      "\n",
      "Author: Franz Kafka\n",
      "\n",
      "Translator: David Wyllie\n",
      "\n",
      "Release date: August 17, 2005 [eBook #5200]\n",
      "                Most recently updated: April 28, 2021\n",
      "\n",
      "Language: English\n",
      "\n",
      "\n",
      "\n",
      "*** START OF THE PROJECT GUTENBERG EBOOK METAMORPHOSIS ***\n",
      "\n",
      "\n",
      "\n",
      "\n",
      "Metamorphosis\n",
      "\n",
      "by Franz Kafka\n",
      "\n",
      "Translated by David Wyllie\n",
      "\n",
      "\n",
      "\n",
      "\n",
      "I\n",
      "\n",
      "\n",
      "One morning, when Gregor Samsa woke from troubled dreams, he found\n",
      "himself transformed in his bed into a horrible vermin.\n",
      "He lay on his\n",
      "armour-like back, and if he lifted his head a little he could see his\n",
      "brown belly, slightly domed and divided by arches into stiff sections.\n",
      "The bedding was hardly able to cover it and seemed ready to slide off\n",
      "any moment.\n",
      "His many legs, pitifully thin compared with the size of the\n",
      "rest of him, waved about helplessly as he looked.\n"
     ]
    }
   ],
   "source": [
    "# File path\n",
    "file_path = 'Data/pg5200.txt'\n",
    "\n",
    "# Open the file for reading\n",
    "with open(file_path, 'r', encoding='utf-8') as file:\n",
    "    # Read the file\n",
    "    text = file.read()\n",
    "\n",
    "    # Split the text into sentences\n",
    "    sentences = re.split(r'(?<!\\w\\.\\w.)(?<![A-Z][a-z]\\.)(?<=\\.|\\?)\\s', text)\n",
    "\n",
    "    # Display first 10 sentences\n",
    "    for sentence in sentences[:10]:\n",
    "        print(sentence)"
   ]
  },
  {
   "cell_type": "code",
   "execution_count": null,
   "id": "91c49186",
   "metadata": {},
   "outputs": [],
   "source": []
  }
 ],
 "metadata": {
  "language_info": {
   "name": "python"
  }
 },
 "nbformat": 4,
 "nbformat_minor": 5
}
